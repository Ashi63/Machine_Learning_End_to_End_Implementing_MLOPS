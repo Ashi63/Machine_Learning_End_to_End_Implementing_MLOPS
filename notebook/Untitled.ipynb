{
 "cells": [
  {
   "cell_type": "code",
   "execution_count": null,
   "id": "2af520db-cab1-4460-9436-532b3722333f",
   "metadata": {},
   "outputs": [],
   "source": [
    "models:dict={\n",
    "    \n",
    "}"
   ]
  },
  {
   "cell_type": "code",
   "execution_count": 2,
   "id": "2ce41388-87eb-4d5a-82f9-dea8bf165ca9",
   "metadata": {},
   "outputs": [],
   "source": [
    "from catboost import CatBoostRegressor\n",
    "from sklearn.ensemble import AdaBoostRegressor,GradientBoostingRegressor,RandomForestRegressor\n",
    "\n",
    "from sklearn.linear_model import LinearRegression\n",
    "from sklearn.metrics import r2_score\n",
    "from sklearn.neighbors import KNeighborsRegressor\n",
    "from sklearn.tree import DecisionTreeRegressor\n",
    "from xgboost import XGBRegressor"
   ]
  },
  {
   "cell_type": "code",
   "execution_count": 15,
   "id": "6ff6e5d5-eafc-4a30-9554-ea08088fc657",
   "metadata": {},
   "outputs": [],
   "source": [
    "models:dict = {\n",
    "                'Linear Regression': LinearRegression(),\n",
    "                'K-Neighbours Regressor':KNeighborsRegressor(),\n",
    "                'Decision Tree': DecisionTreeRegressor(),\n",
    "                'Random Forest Regressor': RandomForestRegressor(),\n",
    "                'AdaBoost Regressor': AdaBoostRegressor(),\n",
    "                'GradientBoost Regressor': GradientBoostingRegressor(),\n",
    "                'XGBoost Regressor': XGBRegressor(),\n",
    "                'CatBoosting Regressor': CatBoostRegressor(verbose=False),\n",
    "                \n",
    "            }"
   ]
  },
  {
   "cell_type": "code",
   "execution_count": 24,
   "id": "cbed3ea5-db66-48f7-be0b-7b68e9fbdd0b",
   "metadata": {},
   "outputs": [
    {
     "name": "stdout",
     "output_type": "stream",
     "text": [
      "LinearRegression() 0\n",
      "KNeighborsRegressor() 1\n",
      "DecisionTreeRegressor() 2\n",
      "RandomForestRegressor() 3\n",
      "AdaBoostRegressor() 4\n",
      "GradientBoostingRegressor() 5\n",
      "XGBRegressor(base_score=None, booster=None, callbacks=None,\n",
      "             colsample_bylevel=None, colsample_bynode=None,\n",
      "             colsample_bytree=None, early_stopping_rounds=None,\n",
      "             enable_categorical=False, eval_metric=None, feature_types=None,\n",
      "             gamma=None, gpu_id=None, grow_policy=None, importance_type=None,\n",
      "             interaction_constraints=None, learning_rate=None, max_bin=None,\n",
      "             max_cat_threshold=None, max_cat_to_onehot=None,\n",
      "             max_delta_step=None, max_depth=None, max_leaves=None,\n",
      "             min_child_weight=None, missing=nan, monotone_constraints=None,\n",
      "             n_estimators=100, n_jobs=None, num_parallel_tree=None,\n",
      "             predictor=None, random_state=None, ...) 6\n",
      "<catboost.core.CatBoostRegressor object at 0x00000259F3B4D490> 7\n"
     ]
    }
   ],
   "source": [
    "for i in range(len(list(models))):\n",
    "    model = list(models.values())[i]\n",
    "    \n",
    "   "
   ]
  },
  {
   "cell_type": "code",
   "execution_count": null,
   "id": "d2cca5ed-31f9-4463-893c-9d3835cfa407",
   "metadata": {},
   "outputs": [],
   "source": []
  }
 ],
 "metadata": {
  "kernelspec": {
   "display_name": "Python 3 (ipykernel)",
   "language": "python",
   "name": "python3"
  },
  "language_info": {
   "codemirror_mode": {
    "name": "ipython",
    "version": 3
   },
   "file_extension": ".py",
   "mimetype": "text/x-python",
   "name": "python",
   "nbconvert_exporter": "python",
   "pygments_lexer": "ipython3",
   "version": "3.9.13"
  }
 },
 "nbformat": 4,
 "nbformat_minor": 5
}
